{
 "cells": [
  {
   "cell_type": "code",
   "execution_count": null,
   "id": "bf464b6c",
   "metadata": {},
   "outputs": [],
   "source": [
    "import pandas as pd\n",
    "import numpy as np\n",
    "import matplotlib.pyplot as plt\n",
    "import math"
   ]
  },
  {
   "cell_type": "code",
   "execution_count": null,
   "id": "695f8fdd",
   "metadata": {},
   "outputs": [],
   "source": [
    "test_data = pd.read_csv(\"./Calibration_Data_1.csv\")"
   ]
  },
  {
   "cell_type": "markdown",
   "id": "780a2943",
   "metadata": {},
   "source": [
    "# Constant Offset"
   ]
  },
  {
   "cell_type": "code",
   "execution_count": null,
   "id": "56fa7837",
   "metadata": {},
   "outputs": [],
   "source": [
    "test_data.plot()"
   ]
  },
  {
   "cell_type": "markdown",
   "id": "dfbb2715",
   "metadata": {},
   "source": [
    "## simple offset\n"
   ]
  },
  {
   "cell_type": "code",
   "execution_count": null,
   "id": "6db7bb52",
   "metadata": {},
   "outputs": [],
   "source": [
    "simple_offset = test_data[\"actual\"].mean() - test_data[\"device\"].mean()"
   ]
  },
  {
   "cell_type": "code",
   "execution_count": null,
   "id": "e000f7a8",
   "metadata": {},
   "outputs": [],
   "source": [
    "simple_offset_data = test_data.copy(True)"
   ]
  },
  {
   "cell_type": "code",
   "execution_count": null,
   "id": "8ced6ad2",
   "metadata": {},
   "outputs": [],
   "source": [
    "simple_offset_data[\"offset\"] = simple_offset_data[\"device\"] + simple_offset"
   ]
  },
  {
   "cell_type": "code",
   "execution_count": null,
   "id": "98a23afe",
   "metadata": {},
   "outputs": [],
   "source": [
    "simple_offset_data.plot()"
   ]
  },
  {
   "cell_type": "code",
   "execution_count": null,
   "id": "fab69904",
   "metadata": {},
   "outputs": [],
   "source": [
    "simple_offset_data[\"difference\"] = simple_offset_data[\"actual\"]-simple_offset_data[\"offset\"]"
   ]
  },
  {
   "cell_type": "code",
   "execution_count": null,
   "id": "0ecece00",
   "metadata": {},
   "outputs": [],
   "source": [
    "simple_offset_std = simple_offset_data[\"difference\"].std()\n",
    "print(simple_offset_std)"
   ]
  },
  {
   "cell_type": "markdown",
   "id": "7b3b8b66",
   "metadata": {},
   "source": [
    "# Polynomial Regression"
   ]
  },
  {
   "cell_type": "code",
   "execution_count": null,
   "id": "a0d71bfb",
   "metadata": {},
   "outputs": [],
   "source": [
    "coef = []\n",
    "max_order = 21"
   ]
  },
  {
   "cell_type": "code",
   "execution_count": null,
   "id": "e6ec0624",
   "metadata": {},
   "outputs": [],
   "source": [
    "poly_data = test_data.copy(True)"
   ]
  },
  {
   "cell_type": "code",
   "execution_count": null,
   "id": "c9545c0e",
   "metadata": {},
   "outputs": [],
   "source": [
    "for i in range(1, max_order):\n",
    "    coef.append(np.polyfit(test_data[\"device\"], test_data[\"actual\"], deg=i))\n",
    "\n",
    "    poly_data[\"order \"+str(i)] = np.polyval(coef[-1], test_data[\"device\"])"
   ]
  },
  {
   "cell_type": "code",
   "execution_count": null,
   "id": "47344b20",
   "metadata": {},
   "outputs": [],
   "source": [
    "poly_data.plot(ylim=(36.1, 37.2))"
   ]
  },
  {
   "cell_type": "code",
   "execution_count": null,
   "id": "aecdca78",
   "metadata": {},
   "outputs": [],
   "source": [
    "pl = [\"actual\"]\n",
    "for i in [4]:\n",
    "    pl.append(\"order \"+str(i))\n",
    "poly_data.plot(y=pl)"
   ]
  },
  {
   "cell_type": "code",
   "execution_count": null,
   "id": "26001359",
   "metadata": {},
   "outputs": [],
   "source": [
    "poly_stds = []"
   ]
  },
  {
   "cell_type": "code",
   "execution_count": null,
   "id": "2f6706f5",
   "metadata": {},
   "outputs": [],
   "source": [
    "for i in range(1,max_order):\n",
    "    poly_data[\"difference \"+str(i)] = poly_data[\"actual\"] - poly_data[\"order \"+str(i)]\n",
    "    poly_stds.append(poly_data[\"difference \"+str(i)].std())"
   ]
  },
  {
   "cell_type": "code",
   "execution_count": null,
   "id": "e6f9213f",
   "metadata": {},
   "outputs": [],
   "source": [
    "poly_stds"
   ]
  },
  {
   "cell_type": "markdown",
   "id": "45d8d7af",
   "metadata": {},
   "source": [
    "Order 3 seems to give the most accurate approcimation without over fitting.\n"
   ]
  },
  {
   "cell_type": "code",
   "execution_count": null,
   "id": "7e87bf85",
   "metadata": {},
   "outputs": [],
   "source": [
    "poly_std = poly_stds[2]"
   ]
  },
  {
   "cell_type": "markdown",
   "id": "0293f0f3",
   "metadata": {},
   "source": [
    "# Kalman filter\n"
   ]
  },
  {
   "cell_type": "code",
   "execution_count": null,
   "id": "d97dddbd",
   "metadata": {},
   "outputs": [],
   "source": []
  },
  {
   "cell_type": "markdown",
   "id": "854b16c5",
   "metadata": {},
   "source": [
    "# Overview"
   ]
  },
  {
   "cell_type": "code",
   "execution_count": null,
   "id": "d889636e",
   "metadata": {},
   "outputs": [],
   "source": [
    "\n",
    "overview = pd.DataFrame({\n",
    "    \"Methed\" : [\"Constant Offset\", \"Ploynomial Regression\"],\n",
    "    \"Standard deviation\" : [simple_offset_std, poly_std],\n",
    "    \"Parameters\": [simple_offset, [round(v, 5) for v in coef[1]]]\n",
    "})"
   ]
  },
  {
   "cell_type": "code",
   "execution_count": null,
   "id": "fb8df4ba",
   "metadata": {},
   "outputs": [],
   "source": [
    "overview"
   ]
  },
  {
   "cell_type": "code",
   "execution_count": null,
   "id": "5ae47548",
   "metadata": {},
   "outputs": [],
   "source": [
    "x = np.arange(min(test_data[\"device\"])-1, max(test_data[\"device\"]+1), 0.01)"
   ]
  },
  {
   "cell_type": "code",
   "execution_count": null,
   "id": "4924cd57",
   "metadata": {},
   "outputs": [],
   "source": [
    "plt.scatter(test_data[\"device\"], test_data[\"actual\"], label=\"Actual vs Device\")\n",
    "plt.plot(x, np.polyval(coef[0], x), label=\"Poly Order 1\")\n",
    "plt.plot(x, np.polyval(coef[1], x), label=\"Poly Order 2\")\n",
    "plt.plot(x, np.polyval(coef[2], x), label=\"Poly Order 3\")\n",
    "# plt.plot(x, x+simple_offset, label=\"Simple Offset\")\n",
    "plt.plot(x, np.polyval(coef[3], x), label=\"Poly Order 4\")\n",
    "plt.xlabel(\"Device\")\n",
    "plt.ylabel(\"Actual\")\n",
    "plt.title(\"Actual vs Device Data\")\n",
    "plt.legend()\n",
    "plt.show()"
   ]
  },
  {
   "cell_type": "code",
   "execution_count": null,
   "id": "d00698f6",
   "metadata": {},
   "outputs": [],
   "source": [
    "rows = math.ceil(max_order/2)\n",
    "fig, axs = plt.subplots(rows, 2, figsize=(14, 6*rows))\n",
    "\n",
    "# Simple Offset\n",
    "axs[0, 0].plot(simple_offset_data.index, simple_offset_data[\"actual\"], label=\"Actual\")\n",
    "axs[0, 0].plot(simple_offset_data.index, simple_offset_data[\"offset\"], label=\"Simple Offset\")\n",
    "axs[0, 0].set_title(f\"Simple Offset\\nStd: {simple_offset_std:.3f}\")\n",
    "axs[0, 0].set_xlabel(\"Time\")\n",
    "axs[0, 0].set_ylabel(\"Temperature\")\n",
    "axs[0, 0].legend()\n",
    "\n",
    "# Polynomial Orders 1-5\n",
    "for i in range(1, max_order):\n",
    "    row = i // 2\n",
    "    col = i % 2\n",
    "    ax = axs[row, col]\n",
    "    ax.plot(poly_data.index, poly_data[\"actual\"], label=\"Actual\")\n",
    "    ax.plot(poly_data.index, poly_data[f\"order {i}\"], label=f\"Poly Order {i}\")\n",
    "    std = poly_stds[i-1]\n",
    "    ax.set_title(f\"Polynomial Order {i}\\nStd: {std:.6f}\")\n",
    "    ax.set_xlabel(\"Time\")\n",
    "    ax.set_ylabel(\"Temperature\")\n",
    "    ax.legend()\n",
    "\n",
    "# Hide any unused subplot (in this case, axs[2, 1])\n",
    "if len(axs.flatten()) > 6:\n",
    "    for j in range(6, len(axs.flatten())):\n",
    "        axs.flatten()[j].axis('off')\n",
    "\n",
    "plt.tight_layout()\n",
    "plt.show()"
   ]
  },
  {
   "cell_type": "code",
   "execution_count": null,
   "id": "f8b0d18c",
   "metadata": {},
   "outputs": [],
   "source": [
    "fig, axs = plt.subplots(rows, 2, figsize=(14, 6*rows))\n",
    "\n",
    "# Simple Offset\n",
    "axs[0, 0].scatter(test_data[\"device\"], test_data[\"actual\"], label=\"Actual vs Device\")\n",
    "axs[0, 0].plot(x, x+simple_offset, label=\"Simple Offset\")\n",
    "axs[0, 0].set_title(f\"Simple Offset\\nStd: {simple_offset_std:.3f}\")\n",
    "axs[0, 0].set_xlabel(\"Device Temperature\")\n",
    "axs[0, 0].set_ylabel(\"Actual Temperature\")\n",
    "axs[0, 0].legend()\n",
    "\n",
    "# Polynomial Orders 1-5\n",
    "for i in range(1, max_order):\n",
    "    row = i // 2\n",
    "    col = i % 2\n",
    "    ax = axs[row, col]\n",
    "    ax.scatter(test_data[\"device\"], test_data[\"actual\"], label=\"Actual vs Device\")\n",
    "    ax.plot(x, np.polyval(coef[i-1], x), label=\"Poly Order \"+str(i))\n",
    "    std = poly_stds[i-1]\n",
    "    ax.set_title(f\"Polynomial Order {i}\\nStd: {std:.6f}\")\n",
    "    ax.set_xlabel(\"Device Temperature\")\n",
    "    ax.set_ylabel(\"Actual Temperature\")\n",
    "    ax.legend()\n",
    "\n",
    "# Hide any unused subplot (in this case, axs[2, 1])\n",
    "if len(axs.flatten()) > 6:\n",
    "    for j in range(6, len(axs.flatten())):\n",
    "        axs.flatten()[j].axis('off')\n",
    "\n",
    "plt.tight_layout()\n",
    "plt.show()"
   ]
  },
  {
   "cell_type": "code",
   "execution_count": null,
   "id": "702038b0",
   "metadata": {},
   "outputs": [],
   "source": [
    "poly_stds"
   ]
  },
  {
   "cell_type": "code",
   "execution_count": null,
   "id": "6c5d7ea6",
   "metadata": {},
   "outputs": [],
   "source": [
    "test = np.arange(0, max_order, 1)\n",
    "\n",
    "plt.plot(test[1:], poly_stds, label=\"Test Line\")\n",
    "plt.xlabel(\"Polynomial Order\")\n",
    "plt.ylabel(\"Standard Deviation\")\n",
    "plt.title(\"Standard Deviation of Polynomial Orders\")\n",
    "plt.xticks(test[1:])\n",
    "plt.grid()"
   ]
  },
  {
   "cell_type": "code",
   "execution_count": null,
   "id": "88ecac9a",
   "metadata": {},
   "outputs": [],
   "source": [
    "orders = [ 3,5]\n",
    "if max(orders) > max_order:\n",
    "    raise ValueError(f\"Maximum order {max(orders)} exceeds defined max_order {max_order}.\")\n",
    "rows = math.ceil(len(orders)/2)\n",
    "if rows <2:\n",
    "    rows = 2  # Ensure at least one row for plotting\n",
    "fig, axs = plt.subplots(rows, 2, figsize=(14, 6*rows))\n",
    "\n",
    "\n",
    "# Polynomial Orders 1-5\n",
    "for i, v in enumerate(orders, start=0):\n",
    "    row = i // 2\n",
    "    col = i % 2\n",
    "    ax = axs[row, col]\n",
    "    ax.plot(poly_data.index, poly_data[\"actual\"], label=\"Actual\")\n",
    "    ax.plot(poly_data.index, poly_data[f\"order {v}\"], label=f\"Poly Order {v}\")\n",
    "    std = poly_stds[v-1]\n",
    "    ax.set_title(f\"Polynomial Order {v}\\nStd: {std:.6f}\")\n",
    "    ax.set_xlabel(\"Time\")\n",
    "    ax.set_ylabel(\"Temperature\")\n",
    "    ax.legend()\n",
    "\n",
    "# Hide any unused subplot (in this case, axs[2, 1])\n",
    "if len(axs.flatten()) > 6:\n",
    "    for j in range(6, len(axs.flatten())):\n",
    "        axs.flatten()[j].axis('off')\n",
    "\n",
    "plt.tight_layout()\n",
    "plt.show()"
   ]
  }
 ],
 "metadata": {
  "kernelspec": {
   "display_name": "base",
   "language": "python",
   "name": "python3"
  },
  "language_info": {
   "codemirror_mode": {
    "name": "ipython",
    "version": 3
   },
   "file_extension": ".py",
   "mimetype": "text/x-python",
   "name": "python",
   "nbconvert_exporter": "python",
   "pygments_lexer": "ipython3",
   "version": "3.12.7"
  }
 },
 "nbformat": 4,
 "nbformat_minor": 5
}
